{
 "cells": [
  {
   "cell_type": "code",
   "execution_count": 1,
   "metadata": {},
   "outputs": [
    {
     "name": "stderr",
     "output_type": "stream",
     "text": [
      "/Users/vishalmishra/anaconda/envs/py36/lib/python3.6/importlib/_bootstrap.py:219: RuntimeWarning: numpy.dtype size changed, may indicate binary incompatibility. Expected 96, got 88\n",
      "  return f(*args, **kwds)\n",
      "/Users/vishalmishra/anaconda/envs/py36/lib/python3.6/importlib/_bootstrap.py:219: RuntimeWarning: numpy.dtype size changed, may indicate binary incompatibility. Expected 96, got 88\n",
      "  return f(*args, **kwds)\n"
     ]
    }
   ],
   "source": [
    "import pandas as pd"
   ]
  },
  {
   "cell_type": "code",
   "execution_count": 2,
   "metadata": {},
   "outputs": [],
   "source": [
    "df_zip = pd.read_csv('/Volumes/Macdrive2/DataScience/Uptake/zipCodeMarketingCosts.csv')"
   ]
  },
  {
   "cell_type": "markdown",
   "metadata": {},
   "source": [
    "## Data Preparation"
   ]
  },
  {
   "cell_type": "code",
   "execution_count": 3,
   "metadata": {},
   "outputs": [
    {
     "name": "stderr",
     "output_type": "stream",
     "text": [
      "/Users/vishalmishra/anaconda/envs/py36/lib/python3.6/site-packages/IPython/core/interactiveshell.py:2785: DtypeWarning: Columns (8) have mixed types. Specify dtype option on import or set low_memory=False.\n",
      "  interactivity=interactivity, compiler=compiler, result=result)\n"
     ]
    }
   ],
   "source": [
    "df = pd.read_csv(\"/Volumes/Macdrive2/DataScience/Uptake/data/train.csv\", index_col='id')\n",
    "#df.head()"
   ]
  },
  {
   "cell_type": "code",
   "execution_count": 4,
   "metadata": {},
   "outputs": [],
   "source": [
    "df['zip'] = df['zip'].replace('\\-','',regex=True).astype(float)"
   ]
  },
  {
   "cell_type": "code",
   "execution_count": 5,
   "metadata": {},
   "outputs": [],
   "source": [
    "new_df = df.merge(df_zip, how = 'inner', on = 'zip')"
   ]
  },
  {
   "cell_type": "code",
   "execution_count": 6,
   "metadata": {},
   "outputs": [],
   "source": [
    "training_df = new_df.loc[:,['zip','cluster','major','pepstrfl','rfa_2f','rfa_2a','marketingCost','responded']]\n",
    "training_df['pepstrfl'].replace(('X',' '), (1,0), inplace=True)\n",
    "training_df['major'].replace(('X',' '), (1,0), inplace=True)"
   ]
  },
  {
   "cell_type": "code",
   "execution_count": 7,
   "metadata": {},
   "outputs": [],
   "source": [
    "training_df['cluster'] = pd.to_numeric(training_df['cluster'], errors='coerce')\n",
    "training_df = pd.get_dummies(training_df, columns = ['rfa_2a'])\n",
    "training_df['cluster'].fillna((training_df['cluster'].mean()), inplace=True)"
   ]
  },
  {
   "cell_type": "code",
   "execution_count": 8,
   "metadata": {},
   "outputs": [
    {
     "data": {
      "text/html": [
       "<div>\n",
       "<style scoped>\n",
       "    .dataframe tbody tr th:only-of-type {\n",
       "        vertical-align: middle;\n",
       "    }\n",
       "\n",
       "    .dataframe tbody tr th {\n",
       "        vertical-align: top;\n",
       "    }\n",
       "\n",
       "    .dataframe thead th {\n",
       "        text-align: right;\n",
       "    }\n",
       "</style>\n",
       "<table border=\"1\" class=\"dataframe\">\n",
       "  <thead>\n",
       "    <tr style=\"text-align: right;\">\n",
       "      <th></th>\n",
       "      <th>zip</th>\n",
       "      <th>cluster</th>\n",
       "      <th>major</th>\n",
       "      <th>pepstrfl</th>\n",
       "      <th>rfa_2f</th>\n",
       "      <th>marketingCost</th>\n",
       "      <th>responded</th>\n",
       "      <th>rfa_2a_D</th>\n",
       "      <th>rfa_2a_E</th>\n",
       "      <th>rfa_2a_F</th>\n",
       "      <th>rfa_2a_G</th>\n",
       "    </tr>\n",
       "  </thead>\n",
       "  <tbody>\n",
       "    <tr>\n",
       "      <th>count</th>\n",
       "      <td>182190.000000</td>\n",
       "      <td>182190.000000</td>\n",
       "      <td>182190.000000</td>\n",
       "      <td>182190.000000</td>\n",
       "      <td>182190.000000</td>\n",
       "      <td>182190.000000</td>\n",
       "      <td>182190.000000</td>\n",
       "      <td>182190.000000</td>\n",
       "      <td>182190.000000</td>\n",
       "      <td>182190.000000</td>\n",
       "      <td>182190.000000</td>\n",
       "    </tr>\n",
       "    <tr>\n",
       "      <th>mean</th>\n",
       "      <td>64259.473270</td>\n",
       "      <td>27.917281</td>\n",
       "      <td>0.003057</td>\n",
       "      <td>0.474356</td>\n",
       "      <td>1.910039</td>\n",
       "      <td>6.777915</td>\n",
       "      <td>0.050766</td>\n",
       "      <td>0.077749</td>\n",
       "      <td>0.226511</td>\n",
       "      <td>0.492486</td>\n",
       "      <td>0.203255</td>\n",
       "    </tr>\n",
       "    <tr>\n",
       "      <th>std</th>\n",
       "      <td>23969.472985</td>\n",
       "      <td>14.279578</td>\n",
       "      <td>0.055208</td>\n",
       "      <td>0.499343</td>\n",
       "      <td>1.073082</td>\n",
       "      <td>6.332381</td>\n",
       "      <td>0.219519</td>\n",
       "      <td>0.267776</td>\n",
       "      <td>0.418574</td>\n",
       "      <td>0.499945</td>\n",
       "      <td>0.402422</td>\n",
       "    </tr>\n",
       "    <tr>\n",
       "      <th>min</th>\n",
       "      <td>801.000000</td>\n",
       "      <td>1.000000</td>\n",
       "      <td>0.000000</td>\n",
       "      <td>0.000000</td>\n",
       "      <td>1.000000</td>\n",
       "      <td>0.800000</td>\n",
       "      <td>0.000000</td>\n",
       "      <td>0.000000</td>\n",
       "      <td>0.000000</td>\n",
       "      <td>0.000000</td>\n",
       "      <td>0.000000</td>\n",
       "    </tr>\n",
       "    <tr>\n",
       "      <th>25%</th>\n",
       "      <td>40475.000000</td>\n",
       "      <td>16.000000</td>\n",
       "      <td>0.000000</td>\n",
       "      <td>0.000000</td>\n",
       "      <td>1.000000</td>\n",
       "      <td>2.200000</td>\n",
       "      <td>0.000000</td>\n",
       "      <td>0.000000</td>\n",
       "      <td>0.000000</td>\n",
       "      <td>0.000000</td>\n",
       "      <td>0.000000</td>\n",
       "    </tr>\n",
       "    <tr>\n",
       "      <th>50%</th>\n",
       "      <td>63105.000000</td>\n",
       "      <td>27.917281</td>\n",
       "      <td>0.000000</td>\n",
       "      <td>0.000000</td>\n",
       "      <td>2.000000</td>\n",
       "      <td>3.240000</td>\n",
       "      <td>0.000000</td>\n",
       "      <td>0.000000</td>\n",
       "      <td>0.000000</td>\n",
       "      <td>0.000000</td>\n",
       "      <td>0.000000</td>\n",
       "    </tr>\n",
       "    <tr>\n",
       "      <th>75%</th>\n",
       "      <td>90007.000000</td>\n",
       "      <td>40.000000</td>\n",
       "      <td>0.000000</td>\n",
       "      <td>1.000000</td>\n",
       "      <td>3.000000</td>\n",
       "      <td>12.490000</td>\n",
       "      <td>0.000000</td>\n",
       "      <td>0.000000</td>\n",
       "      <td>0.000000</td>\n",
       "      <td>1.000000</td>\n",
       "      <td>0.000000</td>\n",
       "    </tr>\n",
       "    <tr>\n",
       "      <th>max</th>\n",
       "      <td>99950.000000</td>\n",
       "      <td>53.000000</td>\n",
       "      <td>1.000000</td>\n",
       "      <td>1.000000</td>\n",
       "      <td>4.000000</td>\n",
       "      <td>18.000000</td>\n",
       "      <td>1.000000</td>\n",
       "      <td>1.000000</td>\n",
       "      <td>1.000000</td>\n",
       "      <td>1.000000</td>\n",
       "      <td>1.000000</td>\n",
       "    </tr>\n",
       "  </tbody>\n",
       "</table>\n",
       "</div>"
      ],
      "text/plain": [
       "                 zip        cluster          major       pepstrfl  \\\n",
       "count  182190.000000  182190.000000  182190.000000  182190.000000   \n",
       "mean    64259.473270      27.917281       0.003057       0.474356   \n",
       "std     23969.472985      14.279578       0.055208       0.499343   \n",
       "min       801.000000       1.000000       0.000000       0.000000   \n",
       "25%     40475.000000      16.000000       0.000000       0.000000   \n",
       "50%     63105.000000      27.917281       0.000000       0.000000   \n",
       "75%     90007.000000      40.000000       0.000000       1.000000   \n",
       "max     99950.000000      53.000000       1.000000       1.000000   \n",
       "\n",
       "              rfa_2f  marketingCost      responded       rfa_2a_D  \\\n",
       "count  182190.000000  182190.000000  182190.000000  182190.000000   \n",
       "mean        1.910039       6.777915       0.050766       0.077749   \n",
       "std         1.073082       6.332381       0.219519       0.267776   \n",
       "min         1.000000       0.800000       0.000000       0.000000   \n",
       "25%         1.000000       2.200000       0.000000       0.000000   \n",
       "50%         2.000000       3.240000       0.000000       0.000000   \n",
       "75%         3.000000      12.490000       0.000000       0.000000   \n",
       "max         4.000000      18.000000       1.000000       1.000000   \n",
       "\n",
       "            rfa_2a_E       rfa_2a_F       rfa_2a_G  \n",
       "count  182190.000000  182190.000000  182190.000000  \n",
       "mean        0.226511       0.492486       0.203255  \n",
       "std         0.418574       0.499945       0.402422  \n",
       "min         0.000000       0.000000       0.000000  \n",
       "25%         0.000000       0.000000       0.000000  \n",
       "50%         0.000000       0.000000       0.000000  \n",
       "75%         0.000000       1.000000       0.000000  \n",
       "max         1.000000       1.000000       1.000000  "
      ]
     },
     "execution_count": 8,
     "metadata": {},
     "output_type": "execute_result"
    }
   ],
   "source": [
    "training_df.describe()"
   ]
  },
  {
   "cell_type": "code",
   "execution_count": 14,
   "metadata": {},
   "outputs": [],
   "source": [
    "X_df = training_df.drop('responded', axis=1)\n",
    "Y_df = training_df['responded']"
   ]
  },
  {
   "cell_type": "markdown",
   "metadata": {},
   "source": [
    "## Standardization"
   ]
  },
  {
   "cell_type": "code",
   "execution_count": 15,
   "metadata": {},
   "outputs": [],
   "source": [
    "from sklearn.preprocessing import StandardScaler\n",
    "n = StandardScaler()\n",
    "X_df = pd.DataFrame(n.fit_transform(X_df), columns = [X_df.columns])"
   ]
  },
  {
   "cell_type": "markdown",
   "metadata": {},
   "source": [
    "## Modelling"
   ]
  },
  {
   "cell_type": "code",
   "execution_count": 16,
   "metadata": {},
   "outputs": [],
   "source": [
    "from sklearn.model_selection import train_test_split\n",
    "X_train, X_test, Y_train, Y_test = train_test_split(X_df,Y_df, test_size=0.2, random_state=0) "
   ]
  },
  {
   "cell_type": "markdown",
   "metadata": {},
   "source": [
    "### Logistic Regression"
   ]
  },
  {
   "cell_type": "code",
   "execution_count": 17,
   "metadata": {},
   "outputs": [
    {
     "data": {
      "text/plain": [
       "0.9491464954168725"
      ]
     },
     "execution_count": 17,
     "metadata": {},
     "output_type": "execute_result"
    }
   ],
   "source": [
    "from sklearn.linear_model import LogisticRegressionCV\n",
    "cls_lr_cv = LogisticRegressionCV(cv = 10)\n",
    "\n",
    "cls_lr_cv.fit(X_train,Y_train)\n",
    "pred_lr_cv = cls_lr_cv.predict(X_test)\n",
    "cls_lr_cv.score(X_test, Y_test)"
   ]
  },
  {
   "cell_type": "markdown",
   "metadata": {},
   "source": [
    "### Decision Tree Classifier"
   ]
  },
  {
   "cell_type": "code",
   "execution_count": 18,
   "metadata": {},
   "outputs": [
    {
     "data": {
      "text/plain": [
       "0.9689335309292497"
      ]
     },
     "execution_count": 18,
     "metadata": {},
     "output_type": "execute_result"
    }
   ],
   "source": [
    "from sklearn.tree import DecisionTreeClassifier\n",
    "\n",
    "cls_dt = DecisionTreeClassifier()\n",
    "cls_dt.fit(X_train,Y_train)\n",
    "pred_dt = cls_dt.predict(X_test)\n",
    "cls_dt.score(X_test,Y_test)"
   ]
  },
  {
   "cell_type": "markdown",
   "metadata": {},
   "source": [
    "### Random Forest Classifier"
   ]
  },
  {
   "cell_type": "code",
   "execution_count": 19,
   "metadata": {},
   "outputs": [
    {
     "name": "stderr",
     "output_type": "stream",
     "text": [
      "/Users/vishalmishra/anaconda/envs/py36/lib/python3.6/site-packages/sklearn/ensemble/weight_boosting.py:29: DeprecationWarning: numpy.core.umath_tests is an internal NumPy module and should not be imported. It will be removed in a future NumPy release.\n",
      "  from numpy.core.umath_tests import inner1d\n"
     ]
    },
    {
     "data": {
      "text/plain": [
       "0.9751358471924914"
      ]
     },
     "execution_count": 19,
     "metadata": {},
     "output_type": "execute_result"
    }
   ],
   "source": [
    "from sklearn.ensemble import RandomForestClassifier\n",
    "\n",
    "cls_rf = RandomForestClassifier(n_estimators = 30)\n",
    "cls_rf.fit(X_train,Y_train)\n",
    "pred_rf = cls_rf.predict(X_test)\n",
    "cls_rf.score(X_test,Y_test)"
   ]
  },
  {
   "cell_type": "markdown",
   "metadata": {},
   "source": [
    "### Gradient Boosting Classifier"
   ]
  },
  {
   "cell_type": "code",
   "execution_count": 20,
   "metadata": {},
   "outputs": [
    {
     "data": {
      "text/plain": [
       "0.9491190515396015"
      ]
     },
     "execution_count": 20,
     "metadata": {},
     "output_type": "execute_result"
    }
   ],
   "source": [
    "from sklearn.ensemble import GradientBoostingClassifier\n",
    "\n",
    "cls_gb = GradientBoostingClassifier()\n",
    "cls_gb.fit(X_train,Y_train)\n",
    "pred_gb = cls_gb.predict(X_test)\n",
    "cls_gb.score(X_test,Y_test)"
   ]
  },
  {
   "cell_type": "markdown",
   "metadata": {},
   "source": [
    "### Support Vector Classifier"
   ]
  },
  {
   "cell_type": "code",
   "execution_count": 22,
   "metadata": {},
   "outputs": [
    {
     "data": {
      "text/plain": [
       "0.9491464954168725"
      ]
     },
     "execution_count": 22,
     "metadata": {},
     "output_type": "execute_result"
    }
   ],
   "source": [
    "from sklearn.svm import SVC\n",
    "\n",
    "cls_sv = SVC()\n",
    "cls_sv.fit(X_train,Y_train)\n",
    "pred_sv = cls_sv.predict(X_test)\n",
    "cls_sv.score(X_test,Y_test)"
   ]
  },
  {
   "cell_type": "markdown",
   "metadata": {},
   "source": [
    "## Testing"
   ]
  },
  {
   "cell_type": "code",
   "execution_count": 23,
   "metadata": {},
   "outputs": [
    {
     "name": "stderr",
     "output_type": "stream",
     "text": [
      "/Users/vishalmishra/anaconda/envs/py36/lib/python3.6/site-packages/IPython/core/interactiveshell.py:2785: DtypeWarning: Columns (8) have mixed types. Specify dtype option on import or set low_memory=False.\n",
      "  interactivity=interactivity, compiler=compiler, result=result)\n"
     ]
    }
   ],
   "source": [
    "test_df = pd.read_csv(\"/Volumes/Macdrive2/DataScience/Uptake/data/test.csv\", index_col='id')"
   ]
  },
  {
   "cell_type": "code",
   "execution_count": 24,
   "metadata": {},
   "outputs": [],
   "source": [
    "test_df['zip'] = test_df['zip'].replace('\\-','',regex=True).astype(float)"
   ]
  },
  {
   "cell_type": "code",
   "execution_count": 25,
   "metadata": {},
   "outputs": [],
   "source": [
    "test_df = test_df.merge(df_zip, how = 'left', on = 'zip')"
   ]
  },
  {
   "cell_type": "code",
   "execution_count": 26,
   "metadata": {},
   "outputs": [],
   "source": [
    "testing_df = test_df.loc[:,['zip','cluster','major','pepstrfl','rfa_2f','rfa_2a','marketingCost']]"
   ]
  },
  {
   "cell_type": "code",
   "execution_count": 27,
   "metadata": {},
   "outputs": [],
   "source": [
    "testing_df['pepstrfl'].replace(('X',' '), (1,0), inplace=True)\n",
    "testing_df['major'].replace(('X',' '), (1,0), inplace=True)"
   ]
  },
  {
   "cell_type": "code",
   "execution_count": 28,
   "metadata": {},
   "outputs": [],
   "source": [
    "testing_df['cluster'] = pd.to_numeric(testing_df['cluster'], errors='coerce')\n",
    "testing_df = pd.get_dummies(testing_df, columns = ['rfa_2a'])"
   ]
  },
  {
   "cell_type": "code",
   "execution_count": 29,
   "metadata": {},
   "outputs": [],
   "source": [
    "testing_df['cluster'].fillna((testing_df['cluster'].mean()), inplace=True)"
   ]
  },
  {
   "cell_type": "code",
   "execution_count": 30,
   "metadata": {},
   "outputs": [
    {
     "name": "stdout",
     "output_type": "stream",
     "text": [
      "(9589,)\n"
     ]
    }
   ],
   "source": [
    "predicted_test = cls_rf.predict(testing_df)\n",
    "print(predicted_test.shape)"
   ]
  },
  {
   "cell_type": "code",
   "execution_count": 31,
   "metadata": {},
   "outputs": [
    {
     "name": "stderr",
     "output_type": "stream",
     "text": [
      "/Users/vishalmishra/anaconda/envs/py36/lib/python3.6/site-packages/IPython/core/interactiveshell.py:2785: DtypeWarning: Columns (8) have mixed types. Specify dtype option on import or set low_memory=False.\n",
      "  interactivity=interactivity, compiler=compiler, result=result)\n"
     ]
    }
   ],
   "source": [
    "final_test_df = pd.read_csv(\"/Volumes/Macdrive2/DataScience/Uptake/data/test.csv\", index_col='id')"
   ]
  },
  {
   "cell_type": "code",
   "execution_count": 32,
   "metadata": {},
   "outputs": [],
   "source": [
    "final_test_df['market'] = predicted_test"
   ]
  },
  {
   "cell_type": "code",
   "execution_count": 33,
   "metadata": {},
   "outputs": [
    {
     "data": {
      "text/plain": [
       "id\n",
       "182190    0\n",
       "182191    0\n",
       "182192    0\n",
       "182193    0\n",
       "182194    0\n",
       "182195    0\n",
       "182196    0\n",
       "182197    0\n",
       "182198    0\n",
       "182199    0\n",
       "182200    0\n",
       "182201    0\n",
       "182202    0\n",
       "182203    0\n",
       "182204    0\n",
       "182205    0\n",
       "182206    0\n",
       "182207    0\n",
       "182208    0\n",
       "182209    0\n",
       "182210    0\n",
       "182211    0\n",
       "182212    0\n",
       "182213    0\n",
       "182214    0\n",
       "182215    0\n",
       "182216    0\n",
       "182217    0\n",
       "182218    0\n",
       "182219    0\n",
       "         ..\n",
       "191749    0\n",
       "191750    1\n",
       "191751    0\n",
       "191752    0\n",
       "191753    0\n",
       "191754    0\n",
       "191755    0\n",
       "191756    0\n",
       "191757    1\n",
       "191758    0\n",
       "191759    0\n",
       "191760    0\n",
       "191761    0\n",
       "191762    0\n",
       "191763    0\n",
       "191764    0\n",
       "191765    0\n",
       "191766    1\n",
       "191767    0\n",
       "191768    0\n",
       "191769    0\n",
       "191770    0\n",
       "191771    1\n",
       "191772    0\n",
       "191773    0\n",
       "191774    0\n",
       "191775    0\n",
       "191776    0\n",
       "191777    0\n",
       "191778    0\n",
       "Name: market, Length: 9589, dtype: int64"
      ]
     },
     "execution_count": 33,
     "metadata": {},
     "output_type": "execute_result"
    }
   ],
   "source": [
    "final_test_df['market']"
   ]
  },
  {
   "cell_type": "code",
   "execution_count": 34,
   "metadata": {},
   "outputs": [],
   "source": [
    "final_test_df.to_csv('test.csv')"
   ]
  },
  {
   "cell_type": "code",
   "execution_count": null,
   "metadata": {},
   "outputs": [],
   "source": []
  }
 ],
 "metadata": {
  "kernelspec": {
   "display_name": "Python 3",
   "language": "python",
   "name": "python3"
  },
  "language_info": {
   "codemirror_mode": {
    "name": "ipython",
    "version": 3
   },
   "file_extension": ".py",
   "mimetype": "text/x-python",
   "name": "python",
   "nbconvert_exporter": "python",
   "pygments_lexer": "ipython3",
   "version": "3.6.5"
  },
  "widgets": {
   "state": {},
   "version": "1.1.2"
  }
 },
 "nbformat": 4,
 "nbformat_minor": 2
}
